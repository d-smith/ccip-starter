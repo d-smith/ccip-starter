{
 "cells": [
  {
   "cell_type": "markdown",
   "id": "d3822275-8d64-418b-92d3-42859a8c7bb9",
   "metadata": {},
   "source": [
    "## CCIP Starter Demo\n",
    "\n",
    "Starter docs [here](https://docs.chain.link/ccip/getting-started)\n",
    "\n",
    "CCIP On-chain contract addresses documented [here](https://docs.chain.link/ccip/supported-networks). This notebook uses contract version 1.2\n",
    "\n",
    "\n",
    "### Deploy Sender"
   ]
  },
  {
   "cell_type": "code",
   "execution_count": null,
   "id": "f3b9882a-fcf5-4253-bd25-b03b1942b182",
   "metadata": {},
   "outputs": [],
   "source": [
    "import os\n",
    "\n",
    "SEP_URL=os.environ['SEP_URL']\n"
   ]
  },
  {
   "cell_type": "code",
   "execution_count": null,
   "id": "8a4d6639-018b-427b-8e30-43821a4a4056",
   "metadata": {},
   "outputs": [],
   "source": [
    "import json\n",
    "\n",
    "from web3 import Web3\n",
    "w3 = Web3(Web3.HTTPProvider(SEP_URL))"
   ]
  },
  {
   "cell_type": "code",
   "execution_count": null,
   "id": "cbfe79f5-c52f-4844-9bd1-cef91871d2ab",
   "metadata": {},
   "outputs": [],
   "source": [
    "# For deploy on Sepolia need Router and Link contract addresses\n",
    "SEP_ROUTER='0x0BF3dE8c5D3e8A2B34D2BEeB17ABfCeBaf363A59'\n",
    "SEP_LINK='0x779877A7B0D9E8603169DdbD7836e478b4624789'"
   ]
  },
  {
   "cell_type": "code",
   "execution_count": null,
   "id": "518f103d-095d-4323-bc71-272bf46de9d7",
   "metadata": {},
   "outputs": [],
   "source": [
    "DEPLOYER_KEY=os.environ['DEPLOYER_KEY']\n",
    "print(DEPLOYER_KEY)"
   ]
  },
  {
   "cell_type": "code",
   "execution_count": null,
   "id": "23c83eb2-befd-46af-bf73-e75b96de1030",
   "metadata": {},
   "outputs": [],
   "source": [
    "home = ! echo $HOME\n",
    "exec_home = home[0] + '/code/ccip-starter'\n",
    "print(exec_home)"
   ]
  },
  {
   "cell_type": "code",
   "execution_count": null,
   "id": "19777fac-7f14-49dd-ae79-216db9437f56",
   "metadata": {},
   "outputs": [],
   "source": [
    "!cd {exec_home} && DEPLOYER_KEY={DEPLOYER_KEY} ROUTER_ADDRESS={SEP_ROUTER} LINK_ADDRESS={SEP_LINK} forge script script/Sender.s.sol:SenderScript --broadcast --rpc-url {SEP_URL} --extra-output-files abi --extra-output-files bin"
   ]
  },
  {
   "cell_type": "code",
   "execution_count": null,
   "id": "320827bd-458c-4576-8084-274a68b8b306",
   "metadata": {},
   "outputs": [],
   "source": [
    "%%bash -s \"$exec_home\" --out SENDER_ADDRESS\n",
    "cd $1\n",
    "node script/sender-deploy-details.js"
   ]
  },
  {
   "cell_type": "code",
   "execution_count": null,
   "id": "ad5c03a0-138f-4c5a-ba56-eab1710cd898",
   "metadata": {},
   "outputs": [],
   "source": [
    "print(SENDER_ADDRESS)"
   ]
  },
  {
   "cell_type": "markdown",
   "id": "1c84575a-ce12-428b-bb66-a2cb97dd324d",
   "metadata": {},
   "source": [
    "### Deploy Receiver"
   ]
  },
  {
   "cell_type": "code",
   "execution_count": null,
   "id": "8b69dcf3-9da7-44c0-b737-8cd41676f95b",
   "metadata": {},
   "outputs": [],
   "source": [
    "MUMBAI_ROUTER='0x1035CabC275068e0F4b745A29CEDf38E13aF41b1'"
   ]
  },
  {
   "cell_type": "code",
   "execution_count": null,
   "id": "bc3cd587-b2a4-4ff1-9e2d-a26076245e6b",
   "metadata": {},
   "outputs": [],
   "source": [
    "MUMBAI_URL=os.environ['PG_URL']\n",
    "pgw3 = Web3(Web3.HTTPProvider(MUMBAI_URL))"
   ]
  },
  {
   "cell_type": "code",
   "execution_count": null,
   "id": "981ef9f6-0aeb-485e-8f6c-d432baf91be3",
   "metadata": {},
   "outputs": [],
   "source": [
    "!cd {exec_home} && DEPLOYER_KEY={DEPLOYER_KEY} ROUTER_ADDRESS={MUMBAI_ROUTER}  forge script script/Receiver.s.sol:ReceiverScript --broadcast --rpc-url {MUMBAI_URL} --extra-output-files abi --extra-output-files bin"
   ]
  },
  {
   "cell_type": "code",
   "execution_count": null,
   "id": "101a6593-fcf9-41ed-b7e5-d55a696bfa7d",
   "metadata": {},
   "outputs": [],
   "source": [
    "%%bash -s \"$exec_home\" --out RECEIVER_ADDRESS\n",
    "cd $1\n",
    "node script/receiver-deploy-details.js"
   ]
  },
  {
   "cell_type": "code",
   "execution_count": null,
   "id": "629e9869-5cca-46e9-8493-66541424a002",
   "metadata": {},
   "outputs": [],
   "source": [
    "print(RECEIVER_ADDRESS)"
   ]
  },
  {
   "cell_type": "code",
   "execution_count": null,
   "id": "77d42f62-6b0d-482b-9aca-e9ac580b7b47",
   "metadata": {},
   "outputs": [],
   "source": []
  }
 ],
 "metadata": {
  "kernelspec": {
   "display_name": "Python 3 (ipykernel)",
   "language": "python",
   "name": "python3"
  },
  "language_info": {
   "codemirror_mode": {
    "name": "ipython",
    "version": 3
   },
   "file_extension": ".py",
   "mimetype": "text/x-python",
   "name": "python",
   "nbconvert_exporter": "python",
   "pygments_lexer": "ipython3",
   "version": "3.8.10"
  }
 },
 "nbformat": 4,
 "nbformat_minor": 5
}
