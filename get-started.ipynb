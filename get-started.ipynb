{
 "cells": [
  {
   "cell_type": "code",
   "execution_count": null,
   "id": "f3b9882a-fcf5-4253-bd25-b03b1942b182",
   "metadata": {},
   "outputs": [],
   "source": [
    "import os\n",
    "\n",
    "SEP_URL=os.environ['SEP_URL']\n"
   ]
  },
  {
   "cell_type": "code",
   "execution_count": null,
   "id": "8a4d6639-018b-427b-8e30-43821a4a4056",
   "metadata": {},
   "outputs": [],
   "source": [
    "import json\n",
    "\n",
    "from web3 import Web3\n",
    "w3 = Web3(Web3.HTTPProvider(SEP_URL))"
   ]
  },
  {
   "cell_type": "code",
   "execution_count": null,
   "id": "cbfe79f5-c52f-4844-9bd1-cef91871d2ab",
   "metadata": {},
   "outputs": [],
   "source": [
    "# For deploy on Sepolia need Router and Link contract addresses\n",
    "SEP_ROUTER='0x0BF3dE8c5D3e8A2B34D2BEeB17ABfCeBaf363A59'\n",
    "SEP_LINK='0x779877A7B0D9E8603169DdbD7836e478b4624789'"
   ]
  },
  {
   "cell_type": "code",
   "execution_count": null,
   "id": "518f103d-095d-4323-bc71-272bf46de9d7",
   "metadata": {},
   "outputs": [],
   "source": [
    "DEPLOYER_KEY=os.environ['DEPLOYER_KEY']\n",
    "print(DEPLOYER_KEY)"
   ]
  },
  {
   "cell_type": "code",
   "execution_count": null,
   "id": "23c83eb2-befd-46af-bf73-e75b96de1030",
   "metadata": {},
   "outputs": [],
   "source": [
    "home = ! echo $HOME\n",
    "exec_home = home[0] + '/code/ccip-starter'\n",
    "print(exec_home)"
   ]
  },
  {
   "cell_type": "code",
   "execution_count": null,
   "id": "19777fac-7f14-49dd-ae79-216db9437f56",
   "metadata": {},
   "outputs": [],
   "source": [
    "!cd {exec_home} && DEPLOYER_KEY={DEPLOYER_KEY} ROUTER_ADDRESS={SEP_ROUTER} LINK_ADDRESS={SEP_LINK} forge script script/Sender.s.sol:SenderScript --broadcast --rpc-url {SEP_URL} --extra-output-files abi --extra-output-files bin"
   ]
  },
  {
   "cell_type": "code",
   "execution_count": null,
   "id": "320827bd-458c-4576-8084-274a68b8b306",
   "metadata": {},
   "outputs": [],
   "source": [
    "%%bash -s \"$exec_home\" --out SENDER_ADDRESS\n",
    "cd $1\n",
    "node script/sender-deploy-details.js"
   ]
  },
  {
   "cell_type": "code",
   "execution_count": null,
   "id": "ad5c03a0-138f-4c5a-ba56-eab1710cd898",
   "metadata": {},
   "outputs": [],
   "source": [
    "print(SENDER_ADDRESS)"
   ]
  },
  {
   "cell_type": "code",
   "execution_count": null,
   "id": "910751eb-d34d-4404-812e-80657173ae7f",
   "metadata": {},
   "outputs": [],
   "source": []
  }
 ],
 "metadata": {
  "kernelspec": {
   "display_name": "Python 3 (ipykernel)",
   "language": "python",
   "name": "python3"
  },
  "language_info": {
   "codemirror_mode": {
    "name": "ipython",
    "version": 3
   },
   "file_extension": ".py",
   "mimetype": "text/x-python",
   "name": "python",
   "nbconvert_exporter": "python",
   "pygments_lexer": "ipython3",
   "version": "3.8.10"
  }
 },
 "nbformat": 4,
 "nbformat_minor": 5
}
